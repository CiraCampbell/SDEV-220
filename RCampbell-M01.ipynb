{
 "cells": [
  {
   "cell_type": "code",
   "execution_count": 1,
   "id": "46a7cfe5-86bd-4cc8-986e-b2ed81b23506",
   "metadata": {},
   "outputs": [],
   "source": [
    "# Question 3.1\n",
    "60*60"
   ]
  },
  {
   "cell_type": "code",
   "execution_count": 19,
   "id": "428ac167-e9c4-4ed6-bb81-023c76386320",
   "metadata": {},
   "outputs": [
    {
     "name": "stdout",
     "output_type": "stream",
     "text": [
      "Seconds per hour is 3600\n"
     ]
    }
   ],
   "source": [
    "# Question 3.2\n",
    "seconds_per_hour = (60*60)\n",
    "print(\"Seconds per hour is\",seconds_per_hour)"
   ]
  },
  {
   "cell_type": "code",
   "execution_count": 20,
   "id": "e794347f-5863-4562-b472-e21983d54d2a",
   "metadata": {},
   "outputs": [
    {
     "data": {
      "text/plain": [
       "86400"
      ]
     },
     "execution_count": 20,
     "metadata": {},
     "output_type": "execute_result"
    }
   ],
   "source": [
    "# Question 3.3\n",
    "seconds_per_hour*24"
   ]
  },
  {
   "cell_type": "code",
   "execution_count": 21,
   "id": "d8447264-995c-442c-894a-fbb9213cfca6",
   "metadata": {},
   "outputs": [],
   "source": [
    "# Question 3.4\n",
    "seconds_per_day = (seconds_per_hour*24)"
   ]
  },
  {
   "cell_type": "code",
   "execution_count": 22,
   "id": "737f15dc-57c0-4829-b7d1-1863cfb42c56",
   "metadata": {},
   "outputs": [
    {
     "data": {
      "text/plain": [
       "24.0"
      ]
     },
     "execution_count": 22,
     "metadata": {},
     "output_type": "execute_result"
    }
   ],
   "source": [
    "# Question 3.5\n",
    "seconds_per_day / seconds_per_hour"
   ]
  },
  {
   "cell_type": "code",
   "execution_count": 23,
   "id": "a38725f0-9e70-4f07-bf7c-f2effd1c542e",
   "metadata": {},
   "outputs": [
    {
     "data": {
      "text/plain": [
       "24"
      ]
     },
     "execution_count": 23,
     "metadata": {},
     "output_type": "execute_result"
    }
   ],
   "source": [
    "# Question 3.6\n",
    "seconds_per_day//seconds_per_hour"
   ]
  },
  {
   "cell_type": "markdown",
   "id": "374731d1-57e3-42f1-85f9-d0e5fa94220d",
   "metadata": {},
   "source": [
    "The answer between questions 3.5 and 3.6 agree-- it just adds in the floating point average."
   ]
  }
 ],
 "metadata": {
  "kernelspec": {
   "display_name": "anaconda-panel-2023.05-py310",
   "language": "python",
   "name": "conda-env-anaconda-panel-2023.05-py310-py"
  },
  "language_info": {
   "codemirror_mode": {
    "name": "ipython",
    "version": 3
   },
   "file_extension": ".py",
   "mimetype": "text/x-python",
   "name": "python",
   "nbconvert_exporter": "python",
   "pygments_lexer": "ipython3",
   "version": "3.11.3"
  }
 },
 "nbformat": 4,
 "nbformat_minor": 5
}
